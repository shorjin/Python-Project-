{
 "cells": [
  {
   "cell_type": "code",
   "execution_count": 33,
   "id": "9bb702ce",
   "metadata": {},
   "outputs": [],
   "source": [
    "from selenium import webdriver\n",
    "import pandas as pd \n",
    "import time\n",
    "from selenium.webdriver.support.ui import Select\n",
    "from bs4 import BeautifulSoup\n",
    "import requests\n",
    "\n"
   ]
  },
  {
   "cell_type": "markdown",
   "id": "355f097c",
   "metadata": {},
   "source": [
    "# Part 1 Browser automation with selenium"
   ]
  },
  {
   "cell_type": "code",
   "execution_count": 41,
   "id": "386d949f",
   "metadata": {
    "scrolled": true
   },
   "outputs": [
    {
     "name": "stderr",
     "output_type": "stream",
     "text": [
      "C:\\Users\\XIAOJIN LI\\AppData\\Local\\Temp\\ipykernel_7376\\3592905604.py:1: DeprecationWarning: executable_path has been deprecated, please pass in a Service object\n",
      "  driver = webdriver.Chrome(executable_path=\"D:\\software\\Anaconda\\chromedriver.exe\")\n"
     ]
    }
   ],
   "source": [
    "\n",
    "driver = webdriver.Chrome(executable_path=\"D:\\software\\Anaconda\\chromedriver.exe\")\n",
    "url='https://imdb.com'\n",
    "driver.get(url)\n",
    "# maximize window\n",
    "driver.maximize_window()\n"
   ]
  },
  {
   "cell_type": "code",
   "execution_count": 42,
   "id": "970d9107",
   "metadata": {},
   "outputs": [
    {
     "name": "stderr",
     "output_type": "stream",
     "text": [
      "C:\\Users\\XIAOJIN LI\\AppData\\Local\\Temp\\ipykernel_7376\\2981809531.py:1: DeprecationWarning: find_element_by_class_name is deprecated. Please use find_element(by=By.CLASS_NAME, value=name) instead\n",
      "  dropdown = driver.find_element_by_class_name('ipc-icon--arrow-drop-down')\n"
     ]
    }
   ],
   "source": [
    "dropdown = driver.find_element_by_class_name('ipc-icon--arrow-drop-down')\n",
    "dropdown.click()"
   ]
  },
  {
   "cell_type": "code",
   "execution_count": 43,
   "id": "e1d81315",
   "metadata": {},
   "outputs": [
    {
     "name": "stderr",
     "output_type": "stream",
     "text": [
      "C:\\Users\\XIAOJIN LI\\AppData\\Local\\Temp\\ipykernel_7376\\4212243644.py:4: DeprecationWarning: find_element_by_link_text is deprecated. Please use find_element(by=By.LINK_TEXT, value=link_text) instead\n",
      "  element = driver.find_element_by_link_text('Advanced Search')\n"
     ]
    }
   ],
   "source": [
    "# advanced search from dropdown menu,这个代码如果和上一个代码放在一起，这一步一定要import time,不然太快了，会报错，\n",
    "#选完drop down 等一秒（import time),time.sleep(1)，在选取advanced title \n",
    "time.sleep(1)\n",
    "element = driver.find_element_by_link_text('Advanced Search')\n",
    "element.click()"
   ]
  },
  {
   "cell_type": "code",
   "execution_count": 44,
   "id": "c94a35e5",
   "metadata": {},
   "outputs": [
    {
     "name": "stderr",
     "output_type": "stream",
     "text": [
      "C:\\Users\\XIAOJIN LI\\AppData\\Local\\Temp\\ipykernel_7376\\310078246.py:3: DeprecationWarning: find_element_by_link_text is deprecated. Please use find_element(by=By.LINK_TEXT, value=link_text) instead\n",
      "  adv_title = driver.find_element_by_link_text('Advanced Title Search')\n"
     ]
    }
   ],
   "source": [
    "# click on advanced title search,Advanced Title Search 是一个带link的text\n",
    "\n",
    "adv_title = driver.find_element_by_link_text('Advanced Title Search')\n",
    "adv_title.click() "
   ]
  },
  {
   "cell_type": "code",
   "execution_count": 45,
   "id": "00f2a9d0",
   "metadata": {},
   "outputs": [
    {
     "name": "stderr",
     "output_type": "stream",
     "text": [
      "C:\\Users\\XIAOJIN LI\\AppData\\Local\\Temp\\ipykernel_7376\\1874716848.py:2: DeprecationWarning: find_element_by_* commands are deprecated. Please use find_element() instead\n",
      "  feature_film = driver.find_element_by_id('title_type-1')\n"
     ]
    }
   ],
   "source": [
    "# select feature film，选择电影的Title Type---feature film\n",
    "feature_film = driver.find_element_by_id('title_type-1')\n",
    "feature_film.click() \n"
   ]
  },
  {
   "cell_type": "code",
   "execution_count": 46,
   "id": "38233a71",
   "metadata": {},
   "outputs": [
    {
     "name": "stderr",
     "output_type": "stream",
     "text": [
      "C:\\Users\\XIAOJIN LI\\AppData\\Local\\Temp\\ipykernel_7376\\2678847073.py:2: DeprecationWarning: find_element_by_* commands are deprecated. Please use find_element() instead\n",
      "  tv_movie = driver.find_element_by_id('title_type-2')\n"
     ]
    }
   ],
   "source": [
    "# select tv movie,选择电影的Title Type---tv movie\n",
    "tv_movie = driver.find_element_by_id('title_type-2')\n",
    "tv_movie.click()\n"
   ]
  },
  {
   "cell_type": "code",
   "execution_count": 47,
   "id": "0a2c8e2a",
   "metadata": {},
   "outputs": [
    {
     "name": "stderr",
     "output_type": "stream",
     "text": [
      "C:\\Users\\XIAOJIN LI\\AppData\\Local\\Temp\\ipykernel_7376\\4090232105.py:2: DeprecationWarning: find_element_by_name is deprecated. Please use find_element(by=By.NAME, value=name) instead\n",
      "  min_date = driver.find_element_by_name('release_date-min')\n"
     ]
    }
   ],
   "source": [
    "# min date,在release date 那里更改，先选中，点击，然后输入release date最小值\n",
    "min_date = driver.find_element_by_name('release_date-min')\n",
    "min_date.click()\n",
    "min_date.send_keys('1990')\n"
   ]
  },
  {
   "cell_type": "code",
   "execution_count": 48,
   "id": "06054c86",
   "metadata": {},
   "outputs": [
    {
     "name": "stderr",
     "output_type": "stream",
     "text": [
      "C:\\Users\\XIAOJIN LI\\AppData\\Local\\Temp\\ipykernel_7376\\3904706428.py:2: DeprecationWarning: find_element_by_name is deprecated. Please use find_element(by=By.NAME, value=name) instead\n",
      "  max_date = driver.find_element_by_name('release_date-max')\n"
     ]
    }
   ],
   "source": [
    "# max date\n",
    "max_date = driver.find_element_by_name('release_date-max')\n",
    "max_date.click()\n",
    "max_date.send_keys('2020')"
   ]
  },
  {
   "cell_type": "code",
   "execution_count": 49,
   "id": "da0bca87",
   "metadata": {},
   "outputs": [
    {
     "name": "stderr",
     "output_type": "stream",
     "text": [
      "C:\\Users\\XIAOJIN LI\\AppData\\Local\\Temp\\ipykernel_7376\\3571017824.py:2: DeprecationWarning: find_element_by_name is deprecated. Please use find_element(by=By.NAME, value=name) instead\n",
      "  rating_min = driver.find_element_by_name('user_rating-min')\n"
     ]
    }
   ],
   "source": [
    "# rating min,由于要用select 所以要from selenium.webdriver.support.ui import Select\n",
    "rating_min = driver.find_element_by_name('user_rating-min')\n",
    "#这个dropdown需要点击一下，才能select 记住有的不需要点的，根据具体情况分析\n",
    "rating_min.click()\n",
    "#选中dropdown-rating_min\n",
    "dropdown_2 = Select(rating_min)\n",
    "#选择dropdown下看的见的Text\n",
    "dropdown_2.select_by_visible_text('1.0')"
   ]
  },
  {
   "cell_type": "code",
   "execution_count": 50,
   "id": "37613d93",
   "metadata": {},
   "outputs": [
    {
     "name": "stderr",
     "output_type": "stream",
     "text": [
      "C:\\Users\\XIAOJIN LI\\AppData\\Local\\Temp\\ipykernel_7376\\2457987728.py:2: DeprecationWarning: find_element_by_name is deprecated. Please use find_element(by=By.NAME, value=name) instead\n",
      "  rating_max = driver.find_element_by_name('user_rating-max')\n"
     ]
    }
   ],
   "source": [
    "# rating max\n",
    "rating_max = driver.find_element_by_name('user_rating-max')\n",
    "rating_max.click()\n",
    "dropdown_3 = Select(rating_max)\n",
    "dropdown_3.select_by_visible_text('10')\n"
   ]
  },
  {
   "cell_type": "code",
   "execution_count": 51,
   "id": "de356bd6",
   "metadata": {},
   "outputs": [
    {
     "name": "stderr",
     "output_type": "stream",
     "text": [
      "C:\\Users\\XIAOJIN LI\\AppData\\Local\\Temp\\ipykernel_7376\\746527289.py:2: DeprecationWarning: find_element_by_* commands are deprecated. Please use find_element() instead\n",
      "  oscar_nominated = driver.find_element_by_id('groups-7')\n"
     ]
    }
   ],
   "source": [
    "# oscar nominated，找element 时候是找echeckbox那个方块对应的id\n",
    "oscar_nominated = driver.find_element_by_id('groups-7')\n",
    "oscar_nominated.click()"
   ]
  },
  {
   "cell_type": "code",
   "execution_count": 52,
   "id": "9114adc1",
   "metadata": {},
   "outputs": [
    {
     "name": "stderr",
     "output_type": "stream",
     "text": [
      "C:\\Users\\XIAOJIN LI\\AppData\\Local\\Temp\\ipykernel_7376\\675578076.py:2: DeprecationWarning: find_element_by_* commands are deprecated. Please use find_element() instead\n",
      "  color = driver.find_element_by_id('colors-1')\n"
     ]
    }
   ],
   "source": [
    "# color\n",
    "color = driver.find_element_by_id('colors-1')\n",
    "color.click()"
   ]
  },
  {
   "cell_type": "code",
   "execution_count": 53,
   "id": "7cf2e587",
   "metadata": {},
   "outputs": [
    {
     "name": "stderr",
     "output_type": "stream",
     "text": [
      "C:\\Users\\XIAOJIN LI\\AppData\\Local\\Temp\\ipykernel_7376\\3092683708.py:2: DeprecationWarning: find_element_by_name is deprecated. Please use find_element(by=By.NAME, value=name) instead\n",
      "  language = driver.find_element_by_name('languages')\n"
     ]
    }
   ],
   "source": [
    "# language\n",
    "language = driver.find_element_by_name('languages')\n",
    "dropdown_4 = Select(language)\n",
    "dropdown_4.select_by_visible_text('English')"
   ]
  },
  {
   "cell_type": "code",
   "execution_count": 54,
   "id": "f14bf757",
   "metadata": {},
   "outputs": [
    {
     "name": "stderr",
     "output_type": "stream",
     "text": [
      "C:\\Users\\XIAOJIN LI\\AppData\\Local\\Temp\\ipykernel_7376\\3821711576.py:2: DeprecationWarning: find_element_by_* commands are deprecated. Please use find_element() instead\n",
      "  results_count = driver.find_element_by_id('search-count')\n"
     ]
    }
   ],
   "source": [
    "# 250 results\n",
    "results_count = driver.find_element_by_id('search-count')\n",
    "dropdown_5 = Select(results_count)\n",
    "#250在第三个\n",
    "dropdown_5.select_by_index(2)\n"
   ]
  },
  {
   "cell_type": "code",
   "execution_count": 55,
   "id": "8b3b0a0a",
   "metadata": {},
   "outputs": [
    {
     "name": "stderr",
     "output_type": "stream",
     "text": [
      "C:\\Users\\XIAOJIN LI\\AppData\\Local\\Temp\\ipykernel_7376\\741219577.py:3: DeprecationWarning: find_element_by_xpath is deprecated. Please use find_element(by=By.XPATH, value=xpath) instead\n",
      "  submit = driver.find_element_by_xpath('(//button[@type=\"submit\"])[2]')\n"
     ]
    }
   ],
   "source": [
    "# submit,ctrl+f 在chrome游览器，搜索：//button[@type=\"submit\"]，一共搜索到两个button，所以index is 2,别忘记前面加(),然后再次尝试\n",
    "#搜索(//button[@type=\"submit\"])[2]，看下结果是不是唯一，一定要结果是唯一\n",
    "submit = driver.find_element_by_xpath('(//button[@type=\"submit\"])[2]')\n",
    "submit.click()\n"
   ]
  },
  {
   "cell_type": "code",
   "execution_count": 56,
   "id": "102c4632",
   "metadata": {},
   "outputs": [],
   "source": [
    "# current\n",
    "current_url = driver.current_url \n"
   ]
  },
  {
   "cell_type": "code",
   "execution_count": 57,
   "id": "684915d2",
   "metadata": {},
   "outputs": [
    {
     "data": {
      "text/plain": [
       "200"
      ]
     },
     "execution_count": 57,
     "metadata": {},
     "output_type": "execute_result"
    }
   ],
   "source": [
    "# get request\n",
    "response = requests.get(current_url)\n",
    "#status code\n",
    "response.status_code"
   ]
  },
  {
   "cell_type": "code",
   "execution_count": 58,
   "id": "6c635a29",
   "metadata": {},
   "outputs": [],
   "source": [
    "# soup object\n",
    "soup = BeautifulSoup(response.content, 'html.parser')"
   ]
  },
  {
   "cell_type": "code",
   "execution_count": 59,
   "id": "4afaf2ae",
   "metadata": {},
   "outputs": [],
   "source": [
    "# result items (starting point),选中整个想记录的数据\n",
    "list_items = soup.find_all('div', {'class':'lister-item'})"
   ]
  },
  {
   "cell_type": "code",
   "execution_count": null,
   "id": "0790d750",
   "metadata": {},
   "outputs": [],
   "source": [
    "# list comprehension\n",
    "movie_title = [result.find('h3').find('a').get_text() for result in list_items]\n",
    "year = [result.find('h3').find('span', {'class':'lister-item-year'}).get_text().replace('(', '').replace(')', '') for result in list_items]\n",
    "duration = [result.find('span', {'class':'runtime'}).get_text() for result in list_items]\n",
    "genre = [result.find('span', {'class':'genre'}).get_text().strip() for result in list_items]\n",
    "rating = [result.find('div', {'class':'ratings-imdb-rating'}).get_text().strip() for result in list_items]"
   ]
  },
  {
   "cell_type": "code",
   "execution_count": null,
   "id": "9a3eda1c",
   "metadata": {},
   "outputs": [],
   "source": [
    "# create dataframe\n",
    "imdb_df = pd.DataFrame({'Movie Title': movie_title, 'Year': year, 'Duration':duration,\n",
    "                       'Genre': genre, 'Rating':rating})"
   ]
  },
  {
   "cell_type": "markdown",
   "id": "70ab19e4",
   "metadata": {},
   "source": [
    "# Part 2 - Data Extraction with Beautiful Soup"
   ]
  },
  {
   "cell_type": "code",
   "execution_count": 60,
   "id": "5e5bea4d",
   "metadata": {},
   "outputs": [],
   "source": [
    "# get request\n",
    "response = requests.get(current_url)"
   ]
  },
  {
   "cell_type": "code",
   "execution_count": 61,
   "id": "93df5604",
   "metadata": {},
   "outputs": [],
   "source": [
    "# soup object\n",
    "soup = BeautifulSoup(response.content, 'html.parser')"
   ]
  },
  {
   "cell_type": "code",
   "execution_count": 62,
   "id": "6f158f6e",
   "metadata": {},
   "outputs": [],
   "source": [
    "# result items (starting point)\n",
    "list_items = soup.find_all('div', {'class':'lister-item'})"
   ]
  },
  {
   "cell_type": "code",
   "execution_count": 63,
   "id": "987f5581",
   "metadata": {},
   "outputs": [
    {
     "data": {
      "text/plain": [
       "250"
      ]
     },
     "execution_count": 63,
     "metadata": {},
     "output_type": "execute_result"
    }
   ],
   "source": [
    "#check 是否是250个记录\n",
    "len(list_items)"
   ]
  },
  {
   "cell_type": "markdown",
   "id": "e51bee2a",
   "metadata": {},
   "source": [
    "# Data we need to extract\n",
    "-movie title\n",
    "-duration\n",
    "-year\n",
    "-genre\n",
    "-rating"
   ]
  },
  {
   "cell_type": "code",
   "execution_count": 64,
   "id": "ba7129b3",
   "metadata": {},
   "outputs": [
    {
     "data": {
      "text/plain": [
       "<h3 class=\"lister-item-header\">\n",
       "<span class=\"lister-item-index unbold text-primary\">1.</span>\n",
       "<a href=\"/title/tt0107290/\">Jurassic Park</a>\n",
       "<span class=\"lister-item-year text-muted unbold\">(1993)</span>\n",
       "</h3>"
      ]
     },
     "execution_count": 64,
     "metadata": {},
     "output_type": "execute_result"
    }
   ],
   "source": [
    "list_items[0].find('h3')"
   ]
  },
  {
   "cell_type": "code",
   "execution_count": 65,
   "id": "23a796f7",
   "metadata": {},
   "outputs": [
    {
     "data": {
      "text/plain": [
       "'Jurassic Park'"
      ]
     },
     "execution_count": 65,
     "metadata": {},
     "output_type": "execute_result"
    }
   ],
   "source": [
    "# movie title,Jurassic Park是第一个index，在h3 header下面的anchor tag a\n",
    "list_items[0].find('h3').find('a').get_text()"
   ]
  },
  {
   "cell_type": "code",
   "execution_count": 35,
   "id": "abd2e713",
   "metadata": {},
   "outputs": [
    {
     "data": {
      "text/plain": [
       "'1993'"
      ]
     },
     "execution_count": 35,
     "metadata": {},
     "output_type": "execute_result"
    }
   ],
   "source": [
    "#year 也在h3 header下面，span是our tag\n",
    "list_items[0].find('h3').find('span', {'class':'lister-item-year'}).get_text().replace('(', '').replace(')', '')"
   ]
  },
  {
   "cell_type": "code",
   "execution_count": 36,
   "id": "a9b5e121",
   "metadata": {},
   "outputs": [
    {
     "data": {
      "text/plain": [
       "'127 min'"
      ]
     },
     "execution_count": 36,
     "metadata": {},
     "output_type": "execute_result"
    }
   ],
   "source": [
    "# duration\n",
    "list_items[0].find('span', {'class':'runtime'}).get_text()"
   ]
  },
  {
   "cell_type": "code",
   "execution_count": 37,
   "id": "d68e184b",
   "metadata": {},
   "outputs": [
    {
     "data": {
      "text/plain": [
       "'Action, Adventure, Sci-Fi'"
      ]
     },
     "execution_count": 37,
     "metadata": {},
     "output_type": "execute_result"
    }
   ],
   "source": [
    "# genre，strip去除首位的乱七八糟的空格回车之类的东西\n",
    "list_items[0].find('span', {'class':'genre'}).get_text().strip()"
   ]
  },
  {
   "cell_type": "code",
   "execution_count": 38,
   "id": "d6b5abc1",
   "metadata": {},
   "outputs": [
    {
     "data": {
      "text/plain": [
       "'8.2'"
      ]
     },
     "execution_count": 38,
     "metadata": {},
     "output_type": "execute_result"
    }
   ],
   "source": [
    "# rating，找8.2前面的class\n",
    "list_items[0].find('div', {'class':'ratings-imdb-rating'}).get_text().strip()"
   ]
  },
  {
   "cell_type": "code",
   "execution_count": 72,
   "id": "09d50c39",
   "metadata": {},
   "outputs": [],
   "source": [
    "\n",
    "\n",
    "# list comprehension\n",
    "movie_title = [result.find('h3').find('a').get_text() for result in list_items]\n",
    "year = [result.find('h3').find('span', {'class':'lister-item-year'}).get_text().replace('(', '').replace(')', '') for result in list_items]\n",
    "duration = [result.find('span', {'class':'runtime'}).get_text() for result in list_items]\n",
    "genre = [result.find('span', {'class':'genre'}).get_text().strip() for result in list_items]\n",
    "rating = [result.find('div', {'class':'ratings-imdb-rating'}).get_text().strip() for result in list_items]\n",
    "\n"
   ]
  },
  {
   "cell_type": "code",
   "execution_count": 73,
   "id": "fb717a58",
   "metadata": {},
   "outputs": [],
   "source": [
    "imdb_df = pd.DataFrame({'Movie Title': movie_title, 'Year': year, 'Duration':duration,\n",
    "                       'Genre': genre, 'Rating':rating})"
   ]
  },
  {
   "cell_type": "code",
   "execution_count": 74,
   "id": "0b6f3297",
   "metadata": {},
   "outputs": [
    {
     "data": {
      "text/html": [
       "<div>\n",
       "<style scoped>\n",
       "    .dataframe tbody tr th:only-of-type {\n",
       "        vertical-align: middle;\n",
       "    }\n",
       "\n",
       "    .dataframe tbody tr th {\n",
       "        vertical-align: top;\n",
       "    }\n",
       "\n",
       "    .dataframe thead th {\n",
       "        text-align: right;\n",
       "    }\n",
       "</style>\n",
       "<table border=\"1\" class=\"dataframe\">\n",
       "  <thead>\n",
       "    <tr style=\"text-align: right;\">\n",
       "      <th></th>\n",
       "      <th>Movie Title</th>\n",
       "      <th>Year</th>\n",
       "      <th>Duration</th>\n",
       "      <th>Genre</th>\n",
       "      <th>Rating</th>\n",
       "    </tr>\n",
       "  </thead>\n",
       "  <tbody>\n",
       "    <tr>\n",
       "      <th>0</th>\n",
       "      <td>Jurassic Park</td>\n",
       "      <td>1993</td>\n",
       "      <td>127 min</td>\n",
       "      <td>Action, Adventure, Sci-Fi</td>\n",
       "      <td>8.2</td>\n",
       "    </tr>\n",
       "    <tr>\n",
       "      <th>1</th>\n",
       "      <td>Once Upon a Time... In Hollywood</td>\n",
       "      <td>2019</td>\n",
       "      <td>161 min</td>\n",
       "      <td>Comedy, Drama</td>\n",
       "      <td>7.6</td>\n",
       "    </tr>\n",
       "    <tr>\n",
       "      <th>2</th>\n",
       "      <td>The Shawshank Redemption</td>\n",
       "      <td>1994</td>\n",
       "      <td>142 min</td>\n",
       "      <td>Drama</td>\n",
       "      <td>9.3</td>\n",
       "    </tr>\n",
       "    <tr>\n",
       "      <th>3</th>\n",
       "      <td>Star Wars: Episode I - The Phantom Menace</td>\n",
       "      <td>1999</td>\n",
       "      <td>136 min</td>\n",
       "      <td>Action, Adventure, Fantasy</td>\n",
       "      <td>6.5</td>\n",
       "    </tr>\n",
       "    <tr>\n",
       "      <th>4</th>\n",
       "      <td>Avengers: Endgame</td>\n",
       "      <td>2019</td>\n",
       "      <td>181 min</td>\n",
       "      <td>Action, Adventure, Drama</td>\n",
       "      <td>8.4</td>\n",
       "    </tr>\n",
       "    <tr>\n",
       "      <th>...</th>\n",
       "      <td>...</td>\n",
       "      <td>...</td>\n",
       "      <td>...</td>\n",
       "      <td>...</td>\n",
       "      <td>...</td>\n",
       "    </tr>\n",
       "    <tr>\n",
       "      <th>245</th>\n",
       "      <td>Les Misérables</td>\n",
       "      <td>2012</td>\n",
       "      <td>158 min</td>\n",
       "      <td>Drama, Musical, Romance</td>\n",
       "      <td>7.5</td>\n",
       "    </tr>\n",
       "    <tr>\n",
       "      <th>246</th>\n",
       "      <td>Margin Call</td>\n",
       "      <td>2011</td>\n",
       "      <td>107 min</td>\n",
       "      <td>Drama, Thriller</td>\n",
       "      <td>7.1</td>\n",
       "    </tr>\n",
       "    <tr>\n",
       "      <th>247</th>\n",
       "      <td>Room</td>\n",
       "      <td>I 2015</td>\n",
       "      <td>118 min</td>\n",
       "      <td>Drama, Thriller</td>\n",
       "      <td>8.1</td>\n",
       "    </tr>\n",
       "    <tr>\n",
       "      <th>248</th>\n",
       "      <td>American Hustle</td>\n",
       "      <td>2013</td>\n",
       "      <td>138 min</td>\n",
       "      <td>Crime, Drama</td>\n",
       "      <td>7.2</td>\n",
       "    </tr>\n",
       "    <tr>\n",
       "      <th>249</th>\n",
       "      <td>Warrior</td>\n",
       "      <td>2011</td>\n",
       "      <td>140 min</td>\n",
       "      <td>Action, Drama, Sport</td>\n",
       "      <td>8.2</td>\n",
       "    </tr>\n",
       "  </tbody>\n",
       "</table>\n",
       "<p>250 rows × 5 columns</p>\n",
       "</div>"
      ],
      "text/plain": [
       "                                   Movie Title    Year Duration  \\\n",
       "0                                Jurassic Park    1993  127 min   \n",
       "1             Once Upon a Time... In Hollywood    2019  161 min   \n",
       "2                     The Shawshank Redemption    1994  142 min   \n",
       "3    Star Wars: Episode I - The Phantom Menace    1999  136 min   \n",
       "4                            Avengers: Endgame    2019  181 min   \n",
       "..                                         ...     ...      ...   \n",
       "245                             Les Misérables    2012  158 min   \n",
       "246                                Margin Call    2011  107 min   \n",
       "247                                       Room  I 2015  118 min   \n",
       "248                            American Hustle    2013  138 min   \n",
       "249                                    Warrior    2011  140 min   \n",
       "\n",
       "                          Genre Rating  \n",
       "0     Action, Adventure, Sci-Fi    8.2  \n",
       "1                 Comedy, Drama    7.6  \n",
       "2                         Drama    9.3  \n",
       "3    Action, Adventure, Fantasy    6.5  \n",
       "4      Action, Adventure, Drama    8.4  \n",
       "..                          ...    ...  \n",
       "245     Drama, Musical, Romance    7.5  \n",
       "246             Drama, Thriller    7.1  \n",
       "247             Drama, Thriller    8.1  \n",
       "248                Crime, Drama    7.2  \n",
       "249        Action, Drama, Sport    8.2  \n",
       "\n",
       "[250 rows x 5 columns]"
      ]
     },
     "execution_count": 74,
     "metadata": {},
     "output_type": "execute_result"
    }
   ],
   "source": [
    "imdb_df"
   ]
  },
  {
   "cell_type": "code",
   "execution_count": null,
   "id": "0dfca3bf",
   "metadata": {},
   "outputs": [],
   "source": [
    "# output in excel\n",
    "#imdb_df.to_excel('imdb_multiple_pages.xlsx', index=False)"
   ]
  },
  {
   "cell_type": "markdown",
   "id": "0743a9a2",
   "metadata": {},
   "source": [
    "# data cleaning"
   ]
  },
  {
   "cell_type": "code",
   "execution_count": 75,
   "id": "1e256098",
   "metadata": {},
   "outputs": [],
   "source": [
    "imdb_df['Duration']=imdb_df['Duration'].apply(lambda x:x.strip(\" min\"))"
   ]
  },
  {
   "cell_type": "code",
   "execution_count": 76,
   "id": "2c467575",
   "metadata": {},
   "outputs": [
    {
     "data": {
      "text/html": [
       "<div>\n",
       "<style scoped>\n",
       "    .dataframe tbody tr th:only-of-type {\n",
       "        vertical-align: middle;\n",
       "    }\n",
       "\n",
       "    .dataframe tbody tr th {\n",
       "        vertical-align: top;\n",
       "    }\n",
       "\n",
       "    .dataframe thead th {\n",
       "        text-align: right;\n",
       "    }\n",
       "</style>\n",
       "<table border=\"1\" class=\"dataframe\">\n",
       "  <thead>\n",
       "    <tr style=\"text-align: right;\">\n",
       "      <th></th>\n",
       "      <th>Movie Title</th>\n",
       "      <th>Year</th>\n",
       "      <th>Duration</th>\n",
       "      <th>Genre</th>\n",
       "      <th>Rating</th>\n",
       "    </tr>\n",
       "  </thead>\n",
       "  <tbody>\n",
       "    <tr>\n",
       "      <th>0</th>\n",
       "      <td>Jurassic Park</td>\n",
       "      <td>1993</td>\n",
       "      <td>127</td>\n",
       "      <td>Action, Adventure, Sci-Fi</td>\n",
       "      <td>8.2</td>\n",
       "    </tr>\n",
       "    <tr>\n",
       "      <th>1</th>\n",
       "      <td>Once Upon a Time... In Hollywood</td>\n",
       "      <td>2019</td>\n",
       "      <td>161</td>\n",
       "      <td>Comedy, Drama</td>\n",
       "      <td>7.6</td>\n",
       "    </tr>\n",
       "    <tr>\n",
       "      <th>2</th>\n",
       "      <td>The Shawshank Redemption</td>\n",
       "      <td>1994</td>\n",
       "      <td>142</td>\n",
       "      <td>Drama</td>\n",
       "      <td>9.3</td>\n",
       "    </tr>\n",
       "    <tr>\n",
       "      <th>3</th>\n",
       "      <td>Star Wars: Episode I - The Phantom Menace</td>\n",
       "      <td>1999</td>\n",
       "      <td>136</td>\n",
       "      <td>Action, Adventure, Fantasy</td>\n",
       "      <td>6.5</td>\n",
       "    </tr>\n",
       "    <tr>\n",
       "      <th>4</th>\n",
       "      <td>Avengers: Endgame</td>\n",
       "      <td>2019</td>\n",
       "      <td>181</td>\n",
       "      <td>Action, Adventure, Drama</td>\n",
       "      <td>8.4</td>\n",
       "    </tr>\n",
       "    <tr>\n",
       "      <th>...</th>\n",
       "      <td>...</td>\n",
       "      <td>...</td>\n",
       "      <td>...</td>\n",
       "      <td>...</td>\n",
       "      <td>...</td>\n",
       "    </tr>\n",
       "    <tr>\n",
       "      <th>245</th>\n",
       "      <td>Les Misérables</td>\n",
       "      <td>2012</td>\n",
       "      <td>158</td>\n",
       "      <td>Drama, Musical, Romance</td>\n",
       "      <td>7.5</td>\n",
       "    </tr>\n",
       "    <tr>\n",
       "      <th>246</th>\n",
       "      <td>Margin Call</td>\n",
       "      <td>2011</td>\n",
       "      <td>107</td>\n",
       "      <td>Drama, Thriller</td>\n",
       "      <td>7.1</td>\n",
       "    </tr>\n",
       "    <tr>\n",
       "      <th>247</th>\n",
       "      <td>Room</td>\n",
       "      <td>I 2015</td>\n",
       "      <td>118</td>\n",
       "      <td>Drama, Thriller</td>\n",
       "      <td>8.1</td>\n",
       "    </tr>\n",
       "    <tr>\n",
       "      <th>248</th>\n",
       "      <td>American Hustle</td>\n",
       "      <td>2013</td>\n",
       "      <td>138</td>\n",
       "      <td>Crime, Drama</td>\n",
       "      <td>7.2</td>\n",
       "    </tr>\n",
       "    <tr>\n",
       "      <th>249</th>\n",
       "      <td>Warrior</td>\n",
       "      <td>2011</td>\n",
       "      <td>140</td>\n",
       "      <td>Action, Drama, Sport</td>\n",
       "      <td>8.2</td>\n",
       "    </tr>\n",
       "  </tbody>\n",
       "</table>\n",
       "<p>250 rows × 5 columns</p>\n",
       "</div>"
      ],
      "text/plain": [
       "                                   Movie Title    Year Duration  \\\n",
       "0                                Jurassic Park    1993      127   \n",
       "1             Once Upon a Time... In Hollywood    2019      161   \n",
       "2                     The Shawshank Redemption    1994      142   \n",
       "3    Star Wars: Episode I - The Phantom Menace    1999      136   \n",
       "4                            Avengers: Endgame    2019      181   \n",
       "..                                         ...     ...      ...   \n",
       "245                             Les Misérables    2012      158   \n",
       "246                                Margin Call    2011      107   \n",
       "247                                       Room  I 2015      118   \n",
       "248                            American Hustle    2013      138   \n",
       "249                                    Warrior    2011      140   \n",
       "\n",
       "                          Genre Rating  \n",
       "0     Action, Adventure, Sci-Fi    8.2  \n",
       "1                 Comedy, Drama    7.6  \n",
       "2                         Drama    9.3  \n",
       "3    Action, Adventure, Fantasy    6.5  \n",
       "4      Action, Adventure, Drama    8.4  \n",
       "..                          ...    ...  \n",
       "245     Drama, Musical, Romance    7.5  \n",
       "246             Drama, Thriller    7.1  \n",
       "247             Drama, Thriller    8.1  \n",
       "248                Crime, Drama    7.2  \n",
       "249        Action, Drama, Sport    8.2  \n",
       "\n",
       "[250 rows x 5 columns]"
      ]
     },
     "execution_count": 76,
     "metadata": {},
     "output_type": "execute_result"
    }
   ],
   "source": [
    "imdb_df"
   ]
  },
  {
   "cell_type": "code",
   "execution_count": null,
   "id": "e7f146f7",
   "metadata": {},
   "outputs": [],
   "source": []
  }
 ],
 "metadata": {
  "kernelspec": {
   "display_name": "Python 3 (ipykernel)",
   "language": "python",
   "name": "python3"
  },
  "language_info": {
   "codemirror_mode": {
    "name": "ipython",
    "version": 3
   },
   "file_extension": ".py",
   "mimetype": "text/x-python",
   "name": "python",
   "nbconvert_exporter": "python",
   "pygments_lexer": "ipython3",
   "version": "3.8.8"
  },
  "toc": {
   "base_numbering": 1,
   "nav_menu": {},
   "number_sections": true,
   "sideBar": true,
   "skip_h1_title": false,
   "title_cell": "Table of Contents",
   "title_sidebar": "Contents",
   "toc_cell": false,
   "toc_position": {},
   "toc_section_display": true,
   "toc_window_display": false
  },
  "varInspector": {
   "cols": {
    "lenName": 16,
    "lenType": 16,
    "lenVar": 40
   },
   "kernels_config": {
    "python": {
     "delete_cmd_postfix": "",
     "delete_cmd_prefix": "del ",
     "library": "var_list.py",
     "varRefreshCmd": "print(var_dic_list())"
    },
    "r": {
     "delete_cmd_postfix": ") ",
     "delete_cmd_prefix": "rm(",
     "library": "var_list.r",
     "varRefreshCmd": "cat(var_dic_list()) "
    }
   },
   "types_to_exclude": [
    "module",
    "function",
    "builtin_function_or_method",
    "instance",
    "_Feature"
   ],
   "window_display": false
  }
 },
 "nbformat": 4,
 "nbformat_minor": 5
}

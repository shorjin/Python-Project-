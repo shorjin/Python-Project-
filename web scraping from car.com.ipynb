{
 "cells": [
  {
   "cell_type": "code",
   "execution_count": 1,
   "id": "0e4286f5",
   "metadata": {},
   "outputs": [],
   "source": [
    "from bs4 import BeautifulSoup\n",
    "import requests\n",
    "import pandas as pd"
   ]
  },
  {
   "cell_type": "markdown",
   "id": "8bfcfe93",
   "metadata": {},
   "source": [
    "# HTTP Request\n",
    "store website in variable"
   ]
  },
  {
   "cell_type": "code",
   "execution_count": 2,
   "id": "7ff5a31c",
   "metadata": {},
   "outputs": [],
   "source": [
    "website='https://www.cars.com/shopping/results/?stock_type=cpo&makes%5B%5D=mercedes_benz&models%5B%5D=&list_price_max=&maximum_distance=all&zip='"
   ]
  },
  {
   "cell_type": "markdown",
   "id": "f6b51db3",
   "metadata": {},
   "source": [
    "# get request"
   ]
  },
  {
   "cell_type": "code",
   "execution_count": 3,
   "id": "42cdf465",
   "metadata": {},
   "outputs": [],
   "source": [
    "response=requests.get(website)"
   ]
  },
  {
   "cell_type": "code",
   "execution_count": 4,
   "id": "59137dd0",
   "metadata": {},
   "outputs": [
    {
     "data": {
      "text/plain": [
       "200"
      ]
     },
     "execution_count": 4,
     "metadata": {},
     "output_type": "execute_result"
    }
   ],
   "source": [
    "response.status_code"
   ]
  },
  {
   "cell_type": "markdown",
   "id": "6c97360b",
   "metadata": {},
   "source": [
    "soup object"
   ]
  },
  {
   "cell_type": "code",
   "execution_count": 5,
   "id": "6351e99e",
   "metadata": {},
   "outputs": [],
   "source": [
    "soup=BeautifulSoup(response.content,'html.parser')"
   ]
  },
  {
   "cell_type": "code",
   "execution_count": 6,
   "id": "7ea6377f",
   "metadata": {},
   "outputs": [],
   "source": [
    "#soup"
   ]
  },
  {
   "cell_type": "markdown",
   "id": "c326290c",
   "metadata": {},
   "source": [
    "# result"
   ]
  },
  {
   "cell_type": "code",
   "execution_count": 7,
   "id": "cb8b19b2",
   "metadata": {},
   "outputs": [],
   "source": [
    "results=soup.find_all('div',{'class':'vehicle-card'})"
   ]
  },
  {
   "cell_type": "code",
   "execution_count": 8,
   "id": "0cca0017",
   "metadata": {},
   "outputs": [
    {
     "data": {
      "text/plain": [
       "20"
      ]
     },
     "execution_count": 8,
     "metadata": {},
     "output_type": "execute_result"
    }
   ],
   "source": [
    "len(results)"
   ]
  },
  {
   "cell_type": "code",
   "execution_count": 9,
   "id": "8a5a8031",
   "metadata": {},
   "outputs": [],
   "source": [
    "#results[0]"
   ]
  },
  {
   "cell_type": "code",
   "execution_count": 10,
   "id": "361ce50e",
   "metadata": {},
   "outputs": [
    {
     "data": {
      "text/plain": [
       "'2022 Mercedes-Benz GLB 250 Base 4MATIC'"
      ]
     },
     "execution_count": 10,
     "metadata": {},
     "output_type": "execute_result"
    }
   ],
   "source": [
    "results[0].find(\"h2\").get_text()"
   ]
  },
  {
   "cell_type": "code",
   "execution_count": 11,
   "id": "6e190b46",
   "metadata": {},
   "outputs": [
    {
     "data": {
      "text/plain": [
       "'11,565 mi.'"
      ]
     },
     "execution_count": 11,
     "metadata": {},
     "output_type": "execute_result"
    }
   ],
   "source": [
    "results[0].find('div',{'class':'mileage'}).get_text()"
   ]
  },
  {
   "cell_type": "code",
   "execution_count": 12,
   "id": "ddd723ca",
   "metadata": {},
   "outputs": [
    {
     "data": {
      "text/plain": [
       "'$45,980'"
      ]
     },
     "execution_count": 12,
     "metadata": {},
     "output_type": "execute_result"
    }
   ],
   "source": [
    "results[0].find('span',{'class':'primary-price'}).get_text()"
   ]
  },
  {
   "cell_type": "code",
   "execution_count": 13,
   "id": "a0cb8066",
   "metadata": {},
   "outputs": [
    {
     "data": {
      "text/plain": [
       "'4.7'"
      ]
     },
     "execution_count": 13,
     "metadata": {},
     "output_type": "execute_result"
    }
   ],
   "source": [
    "results[0].find('span',{'class':'sds-rating__count'}).get_text()"
   ]
  },
  {
   "cell_type": "code",
   "execution_count": 14,
   "id": "63b08c5b",
   "metadata": {},
   "outputs": [
    {
     "data": {
      "text/plain": [
       "'(1,653 reviews)'"
      ]
     },
     "execution_count": 14,
     "metadata": {},
     "output_type": "execute_result"
    }
   ],
   "source": [
    "results[0].find('span',{'class':'sds-rating__link'}).get_text()"
   ]
  },
  {
   "cell_type": "code",
   "execution_count": 15,
   "id": "23002ff2",
   "metadata": {},
   "outputs": [
    {
     "data": {
      "text/plain": [
       "'\\nMercedes-Benz of Stevens Creek\\n'"
      ]
     },
     "execution_count": 15,
     "metadata": {},
     "output_type": "execute_result"
    }
   ],
   "source": [
    "results[0].find('div',{'class':'dealer-name'}).get_text()"
   ]
  },
  {
   "cell_type": "markdown",
   "id": "6903647b",
   "metadata": {},
   "source": [
    "#### We don't need \\n"
   ]
  },
  {
   "cell_type": "code",
   "execution_count": 16,
   "id": "5b5394ef",
   "metadata": {},
   "outputs": [
    {
     "data": {
      "text/plain": [
       "'Mercedes-Benz of Stevens Creek'"
      ]
     },
     "execution_count": 16,
     "metadata": {},
     "output_type": "execute_result"
    }
   ],
   "source": [
    "results[0].find('div',{'class':'dealer-name'}).get_text().strip()"
   ]
  },
  {
   "cell_type": "markdown",
   "id": "2ac79643",
   "metadata": {},
   "source": [
    "put everything in a loop"
   ]
  },
  {
   "cell_type": "code",
   "execution_count": 17,
   "id": "65959c22",
   "metadata": {},
   "outputs": [],
   "source": [
    "name=[]\n",
    "mileage=[]\n",
    "dealer_name=[]\n",
    "rating=[]\n",
    "rating_count=[]\n",
    "price=[]"
   ]
  },
  {
   "cell_type": "code",
   "execution_count": 18,
   "id": "493a0a19",
   "metadata": {},
   "outputs": [],
   "source": [
    "for a in results:\n",
    "    try:\n",
    "        name.append(a.find(\"h2\").get_text())\n",
    "        mileage.append(a.find('div',{'class':'mileage'}).get_text())\n",
    "        dealer_name.append(a.find('div',{'class':'dealer-name'}).get_text().strip())\n",
    "        rating.append(a.find('span',{'class':'sds-rating__count'}).get_text())\n",
    "        rating_count.append(a.find('span',{'class':'sds-rating__link sds-button-link'}).get_text())\n",
    "        price.append(a.find('span',{'class':'primary-price'}).get_text())\n",
    "       \n",
    "        \n",
    "    #change results[0]to a变量\n",
    "    except:\n",
    "        name.append('n/a')\n",
    "        mileage.append('n/a')\n",
    "        dealer_name.append('n/a')\n",
    "        rating.append('n/a')\n",
    "        rating_count.append('n/a')\n",
    "        price.append('n/a')\n",
    "                    "
   ]
  },
  {
   "cell_type": "markdown",
   "id": "1891392d",
   "metadata": {},
   "source": [
    "# creat pandas dataframe"
   ]
  },
  {
   "cell_type": "code",
   "execution_count": null,
   "id": "2c651cf9",
   "metadata": {},
   "outputs": [],
   "source": [
    "        "
   ]
  },
  {
   "cell_type": "code",
   "execution_count": 19,
   "id": "3f1382c9",
   "metadata": {},
   "outputs": [
    {
     "data": {
      "text/plain": [
       "20"
      ]
     },
     "execution_count": 19,
     "metadata": {},
     "output_type": "execute_result"
    }
   ],
   "source": [
    "len(mileage)"
   ]
  },
  {
   "cell_type": "code",
   "execution_count": 20,
   "id": "aa7ce90c",
   "metadata": {},
   "outputs": [],
   "source": [
    "#Name 是我dataframe的column名字，name是我name list里所有的value\n",
    "car_dealer=pd.DataFrame({'Name':name,'Mileage':mileage,'Dealer Name':dealer_name,'Rating':rating,'Rating Count':rating_count,'Price':price})             "
   ]
  },
  {
   "cell_type": "code",
   "execution_count": 21,
   "id": "c280cc78",
   "metadata": {},
   "outputs": [],
   "source": [
    "#car_dealer"
   ]
  },
  {
   "cell_type": "markdown",
   "id": "45d076f7",
   "metadata": {},
   "source": [
    "# data cleaning"
   ]
  },
  {
   "cell_type": "code",
   "execution_count": 22,
   "id": "e94c9763",
   "metadata": {},
   "outputs": [],
   "source": [
    "car_dealer['Rating Count']=car_dealer['Rating Count'].apply(lambda x:x.strip('reviews)').strip(\"(\"))"
   ]
  },
  {
   "cell_type": "code",
   "execution_count": 23,
   "id": "869073b7",
   "metadata": {},
   "outputs": [],
   "source": [
    "car_dealer['Mileage']=car_dealer['Mileage'].apply(lambda x:x.strip(\"mi.\"))"
   ]
  },
  {
   "cell_type": "code",
   "execution_count": 24,
   "id": "962c3c64",
   "metadata": {},
   "outputs": [],
   "source": [
    "car_dealer['Price']=car_dealer['Price'].apply(lambda x:x.strip(\"$.\"))"
   ]
  },
  {
   "cell_type": "code",
   "execution_count": 25,
   "id": "dd1206ad",
   "metadata": {},
   "outputs": [
    {
     "data": {
      "text/plain": [
       "Name            object\n",
       "Mileage         object\n",
       "Dealer Name     object\n",
       "Rating          object\n",
       "Rating Count    object\n",
       "Price           object\n",
       "dtype: object"
      ]
     },
     "execution_count": 25,
     "metadata": {},
     "output_type": "execute_result"
    }
   ],
   "source": [
    "car_dealer.dtypes"
   ]
  },
  {
   "cell_type": "markdown",
   "id": "52c9ef6a",
   "metadata": {},
   "source": [
    "output in excel"
   ]
  },
  {
   "cell_type": "code",
   "execution_count": 26,
   "id": "cc746eeb",
   "metadata": {},
   "outputs": [
    {
     "data": {
      "text/html": [
       "<div>\n",
       "<style scoped>\n",
       "    .dataframe tbody tr th:only-of-type {\n",
       "        vertical-align: middle;\n",
       "    }\n",
       "\n",
       "    .dataframe tbody tr th {\n",
       "        vertical-align: top;\n",
       "    }\n",
       "\n",
       "    .dataframe thead th {\n",
       "        text-align: right;\n",
       "    }\n",
       "</style>\n",
       "<table border=\"1\" class=\"dataframe\">\n",
       "  <thead>\n",
       "    <tr style=\"text-align: right;\">\n",
       "      <th></th>\n",
       "      <th>Name</th>\n",
       "      <th>Mileage</th>\n",
       "      <th>Dealer Name</th>\n",
       "      <th>Rating</th>\n",
       "      <th>Rating Count</th>\n",
       "      <th>Price</th>\n",
       "    </tr>\n",
       "  </thead>\n",
       "  <tbody>\n",
       "    <tr>\n",
       "      <th>0</th>\n",
       "      <td>2022 Mercedes-Benz GLB 250 Base 4MATIC</td>\n",
       "      <td>11,565</td>\n",
       "      <td>Mercedes-Benz of Stevens Creek</td>\n",
       "      <td>4.7</td>\n",
       "      <td>1,653</td>\n",
       "      <td>45,980</td>\n",
       "    </tr>\n",
       "    <tr>\n",
       "      <th>1</th>\n",
       "      <td>2019 Mercedes-Benz GLS 450 Base 4MATIC</td>\n",
       "      <td>31,714</td>\n",
       "      <td>Mercedes-Benz of Silver Spring</td>\n",
       "      <td>4.8</td>\n",
       "      <td>1,644</td>\n",
       "      <td>59,900</td>\n",
       "    </tr>\n",
       "    <tr>\n",
       "      <th>2</th>\n",
       "      <td>2021 Mercedes-Benz AMG GLE 53 Base</td>\n",
       "      <td>24,792</td>\n",
       "      <td>Mercedes-Benz of Edison</td>\n",
       "      <td>4.9</td>\n",
       "      <td>3,007</td>\n",
       "      <td>93,989</td>\n",
       "    </tr>\n",
       "    <tr>\n",
       "      <th>3</th>\n",
       "      <td>2019 Mercedes-Benz GLS 450 Base 4MATIC</td>\n",
       "      <td>40,300</td>\n",
       "      <td>Mercedes Benz of Hoffman Estates</td>\n",
       "      <td>4.7</td>\n",
       "      <td>1,112</td>\n",
       "      <td>55,999</td>\n",
       "    </tr>\n",
       "    <tr>\n",
       "      <th>4</th>\n",
       "      <td>2019 Mercedes-Benz CLA 250 Base</td>\n",
       "      <td>30,820</td>\n",
       "      <td>Mercedes-Benz of Miami</td>\n",
       "      <td>4.6</td>\n",
       "      <td>1,037</td>\n",
       "      <td>30,995</td>\n",
       "    </tr>\n",
       "    <tr>\n",
       "      <th>5</th>\n",
       "      <td>2021 Mercedes-Benz AMG GLE 53 Base</td>\n",
       "      <td>17,009</td>\n",
       "      <td>Mercedes-Benz of South Charlotte</td>\n",
       "      <td>4.8</td>\n",
       "      <td>1,214</td>\n",
       "      <td>103,824</td>\n",
       "    </tr>\n",
       "    <tr>\n",
       "      <th>6</th>\n",
       "      <td>2019 Mercedes-Benz E-Class E 300</td>\n",
       "      <td>34,801</td>\n",
       "      <td>Fletcher Jones Motorcars</td>\n",
       "      <td>4.8</td>\n",
       "      <td>5,260</td>\n",
       "      <td>40,893</td>\n",
       "    </tr>\n",
       "    <tr>\n",
       "      <th>7</th>\n",
       "      <td>2018 Mercedes-Benz S-Class S 450 4MATIC</td>\n",
       "      <td>26,151</td>\n",
       "      <td>Ray Catena Mercedes Benz Freehold</td>\n",
       "      <td>4.7</td>\n",
       "      <td>738</td>\n",
       "      <td>62,995</td>\n",
       "    </tr>\n",
       "    <tr>\n",
       "      <th>8</th>\n",
       "      <td>2021 Mercedes-Benz S-Class S 580 4MATIC</td>\n",
       "      <td>5,259</td>\n",
       "      <td>Mercedes-Benz of Edison</td>\n",
       "      <td>4.9</td>\n",
       "      <td>3,007</td>\n",
       "      <td>124,399</td>\n",
       "    </tr>\n",
       "    <tr>\n",
       "      <th>9</th>\n",
       "      <td>2019 Mercedes-Benz GLC 300 Base 4MATIC</td>\n",
       "      <td>19,782</td>\n",
       "      <td>Mercedes-Benz of Fort Mitchell</td>\n",
       "      <td>4.8</td>\n",
       "      <td>585</td>\n",
       "      <td>40,631</td>\n",
       "    </tr>\n",
       "    <tr>\n",
       "      <th>10</th>\n",
       "      <td>2020 Mercedes-Benz GLA 250 Base</td>\n",
       "      <td>30,048</td>\n",
       "      <td>Mercedes-Benz of Miami</td>\n",
       "      <td>4.6</td>\n",
       "      <td>1,037</td>\n",
       "      <td>31,995</td>\n",
       "    </tr>\n",
       "    <tr>\n",
       "      <th>11</th>\n",
       "      <td>2019 Mercedes-Benz E-Class E 300</td>\n",
       "      <td>11,152</td>\n",
       "      <td>House of Imports</td>\n",
       "      <td>4.7</td>\n",
       "      <td>1,267</td>\n",
       "      <td>43,480</td>\n",
       "    </tr>\n",
       "    <tr>\n",
       "      <th>12</th>\n",
       "      <td>2019 Mercedes-Benz AMG E 53 Base 4MATIC</td>\n",
       "      <td>31,682</td>\n",
       "      <td>Mercedes-Benz of Scottsdale</td>\n",
       "      <td>4.7</td>\n",
       "      <td>454</td>\n",
       "      <td>59,991</td>\n",
       "    </tr>\n",
       "    <tr>\n",
       "      <th>13</th>\n",
       "      <td>2019 Mercedes-Benz AMG GT 63 4-Door</td>\n",
       "      <td>14,515</td>\n",
       "      <td>Mercedes-Benz of Pembroke Pines</td>\n",
       "      <td>4.6</td>\n",
       "      <td>1,115</td>\n",
       "      <td>131,990</td>\n",
       "    </tr>\n",
       "    <tr>\n",
       "      <th>14</th>\n",
       "      <td>2019 Mercedes-Benz CLA 250 Base</td>\n",
       "      <td>31,676</td>\n",
       "      <td>Mercedes-Benz of Coconut Creek</td>\n",
       "      <td>4.6</td>\n",
       "      <td>1,026</td>\n",
       "      <td>29,991</td>\n",
       "    </tr>\n",
       "    <tr>\n",
       "      <th>15</th>\n",
       "      <td>2021 Mercedes-Benz GLA 250 Base 4MATIC</td>\n",
       "      <td>12,236</td>\n",
       "      <td>Mercedes-Benz of San Francisco / Smart Center ...</td>\n",
       "      <td>4.0</td>\n",
       "      <td>59</td>\n",
       "      <td>40,562</td>\n",
       "    </tr>\n",
       "    <tr>\n",
       "      <th>16</th>\n",
       "      <td>2020 Mercedes-Benz E-Class E 450 4MATIC</td>\n",
       "      <td>19,150</td>\n",
       "      <td>Mercedes-Benz of Atlanta Northeast</td>\n",
       "      <td>4.8</td>\n",
       "      <td>1,871</td>\n",
       "      <td>62,570</td>\n",
       "    </tr>\n",
       "    <tr>\n",
       "      <th>17</th>\n",
       "      <td>2019 Mercedes-Benz E-Class E 300</td>\n",
       "      <td>24,158</td>\n",
       "      <td>Mercedes-Benz of Arcadia</td>\n",
       "      <td>4.8</td>\n",
       "      <td>1,109</td>\n",
       "      <td>41,559</td>\n",
       "    </tr>\n",
       "    <tr>\n",
       "      <th>18</th>\n",
       "      <td>2020 Mercedes-Benz C-Class C 300</td>\n",
       "      <td>18,710</td>\n",
       "      <td>Mercedes-Benz of South Orlando</td>\n",
       "      <td>4.7</td>\n",
       "      <td>1,237</td>\n",
       "      <td>46,777</td>\n",
       "    </tr>\n",
       "    <tr>\n",
       "      <th>19</th>\n",
       "      <td>2020 Mercedes-Benz GLE 450 AWD 4MATIC</td>\n",
       "      <td>24,900</td>\n",
       "      <td>Mercedes-Benz of Wesley Chapel</td>\n",
       "      <td>4.5</td>\n",
       "      <td>599</td>\n",
       "      <td>62,550</td>\n",
       "    </tr>\n",
       "  </tbody>\n",
       "</table>\n",
       "</div>"
      ],
      "text/plain": [
       "                                       Name  Mileage  \\\n",
       "0    2022 Mercedes-Benz GLB 250 Base 4MATIC  11,565    \n",
       "1    2019 Mercedes-Benz GLS 450 Base 4MATIC  31,714    \n",
       "2        2021 Mercedes-Benz AMG GLE 53 Base  24,792    \n",
       "3    2019 Mercedes-Benz GLS 450 Base 4MATIC  40,300    \n",
       "4           2019 Mercedes-Benz CLA 250 Base  30,820    \n",
       "5        2021 Mercedes-Benz AMG GLE 53 Base  17,009    \n",
       "6          2019 Mercedes-Benz E-Class E 300  34,801    \n",
       "7   2018 Mercedes-Benz S-Class S 450 4MATIC  26,151    \n",
       "8   2021 Mercedes-Benz S-Class S 580 4MATIC   5,259    \n",
       "9    2019 Mercedes-Benz GLC 300 Base 4MATIC  19,782    \n",
       "10          2020 Mercedes-Benz GLA 250 Base  30,048    \n",
       "11         2019 Mercedes-Benz E-Class E 300  11,152    \n",
       "12  2019 Mercedes-Benz AMG E 53 Base 4MATIC  31,682    \n",
       "13      2019 Mercedes-Benz AMG GT 63 4-Door  14,515    \n",
       "14          2019 Mercedes-Benz CLA 250 Base  31,676    \n",
       "15   2021 Mercedes-Benz GLA 250 Base 4MATIC  12,236    \n",
       "16  2020 Mercedes-Benz E-Class E 450 4MATIC  19,150    \n",
       "17         2019 Mercedes-Benz E-Class E 300  24,158    \n",
       "18         2020 Mercedes-Benz C-Class C 300  18,710    \n",
       "19    2020 Mercedes-Benz GLE 450 AWD 4MATIC  24,900    \n",
       "\n",
       "                                          Dealer Name Rating Rating Count  \\\n",
       "0                      Mercedes-Benz of Stevens Creek    4.7       1,653    \n",
       "1                      Mercedes-Benz of Silver Spring    4.8       1,644    \n",
       "2                             Mercedes-Benz of Edison    4.9       3,007    \n",
       "3                    Mercedes Benz of Hoffman Estates    4.7       1,112    \n",
       "4                              Mercedes-Benz of Miami    4.6       1,037    \n",
       "5                    Mercedes-Benz of South Charlotte    4.8       1,214    \n",
       "6                            Fletcher Jones Motorcars    4.8       5,260    \n",
       "7                   Ray Catena Mercedes Benz Freehold    4.7         738    \n",
       "8                             Mercedes-Benz of Edison    4.9       3,007    \n",
       "9                      Mercedes-Benz of Fort Mitchell    4.8         585    \n",
       "10                             Mercedes-Benz of Miami    4.6       1,037    \n",
       "11                                   House of Imports    4.7       1,267    \n",
       "12                        Mercedes-Benz of Scottsdale    4.7         454    \n",
       "13                    Mercedes-Benz of Pembroke Pines    4.6       1,115    \n",
       "14                     Mercedes-Benz of Coconut Creek    4.6       1,026    \n",
       "15  Mercedes-Benz of San Francisco / Smart Center ...    4.0          59    \n",
       "16                 Mercedes-Benz of Atlanta Northeast    4.8       1,871    \n",
       "17                           Mercedes-Benz of Arcadia    4.8       1,109    \n",
       "18                     Mercedes-Benz of South Orlando    4.7       1,237    \n",
       "19                     Mercedes-Benz of Wesley Chapel    4.5         599    \n",
       "\n",
       "      Price  \n",
       "0    45,980  \n",
       "1    59,900  \n",
       "2    93,989  \n",
       "3    55,999  \n",
       "4    30,995  \n",
       "5   103,824  \n",
       "6    40,893  \n",
       "7    62,995  \n",
       "8   124,399  \n",
       "9    40,631  \n",
       "10   31,995  \n",
       "11   43,480  \n",
       "12   59,991  \n",
       "13  131,990  \n",
       "14   29,991  \n",
       "15   40,562  \n",
       "16   62,570  \n",
       "17   41,559  \n",
       "18   46,777  \n",
       "19   62,550  "
      ]
     },
     "execution_count": 26,
     "metadata": {},
     "output_type": "execute_result"
    }
   ],
   "source": [
    "car_dealer"
   ]
  },
  {
   "cell_type": "code",
   "execution_count": 27,
   "id": "906d69fb",
   "metadata": {},
   "outputs": [],
   "source": [
    "#export to excel"
   ]
  },
  {
   "cell_type": "code",
   "execution_count": 28,
   "id": "c54d4dcf",
   "metadata": {},
   "outputs": [],
   "source": [
    "#car_dealer.to_excel(\"single_page_car.xlsx\",index=False)"
   ]
  },
  {
   "cell_type": "markdown",
   "id": "b0bd0aae",
   "metadata": {},
   "source": [
    "# pagniation"
   ]
  },
  {
   "cell_type": "code",
   "execution_count": 29,
   "id": "fd643586",
   "metadata": {},
   "outputs": [],
   "source": [
    "name=[]\n",
    "mileage=[]\n",
    "dealer_name=[]\n",
    "rating=[]\n",
    "rating_count=[]\n",
    "price=[]\n",
    "website=\"https://www.cars.com/shopping/results/?stock_type=cpo&makes%5B%5D=mercedes_benz&models%5B%5D=&list_price_max=&maximum_distance=all&zip=\""
   ]
  },
  {
   "cell_type": "code",
   "execution_count": 30,
   "id": "81a3b5bf",
   "metadata": {},
   "outputs": [],
   "source": [
    "#查询10页,把本来link page =1改成dynamatic ，str（i），change one string element to three string element\n",
    "for i in range(1,11):\n",
    "    website=\"https://www.cars.com/shopping/results/?page=\"+str(i)+\"&page_size=20&list_price_max=&makes[]=mercedes_benz&maximum_distance=all&models[]=&stock_type=cpo&zip=\"\n",
    "    #request to website\n",
    "    reponse=requests.get(website)\n",
    "    #soup object\n",
    "    soup=BeautifulSoup(response.content,'html.parser')\n",
    "    #results\n",
    "    results=soup.find_all('div',{'class':'vehicle-card'})\n",
    "    for a in results:\n",
    "        try:\n",
    "            name.append(a.find(\"h2\").get_text())\n",
    "            mileage.append(a.find('div',{'class':'mileage'}).get_text())\n",
    "            dealer_name.append(a.find('div',{'class':'dealer-name'}).get_text().strip())\n",
    "            rating.append(a.find('span',{'class':'sds-rating__count'}).get_text())\n",
    "            rating_count.append(a.find('span',{'class':'sds-rating__link sds-button-link'}).get_text())\n",
    "            price.append(a.find('span',{'class':'primary-price'}).get_text())\n",
    "\n",
    "\n",
    "        #change results[0]to a变量\n",
    "        except:\n",
    "            name.append('n/a')\n",
    "            mileage.append('n/a')\n",
    "            dealer_name.append('n/a')\n",
    "            rating.append('n/a')\n",
    "            rating_count.append('n/a')\n",
    "            price.append('n/a')"
   ]
  },
  {
   "cell_type": "code",
   "execution_count": 31,
   "id": "27e6f46b",
   "metadata": {},
   "outputs": [],
   "source": [
    "car_dealer=pd.DataFrame({'Name':name,'Mileage':mileage,'Dealer Name':dealer_name,'Rating':rating,'Rating Count':rating_count,'Price':price})   "
   ]
  },
  {
   "cell_type": "code",
   "execution_count": 32,
   "id": "c05e3469",
   "metadata": {},
   "outputs": [],
   "source": [
    "car_dealer['Rating Count']=car_dealer['Rating Count'].apply(lambda x:x.strip('reviews)').strip(\"(\"))\n",
    "car_dealer['Mileage']=car_dealer['Mileage'].apply(lambda x:x.strip(\"mi.\"))\n",
    "car_dealer['Price']=car_dealer['Price'].apply(lambda x:x.strip(\"$.\"))"
   ]
  },
  {
   "cell_type": "code",
   "execution_count": 33,
   "id": "f878fe49",
   "metadata": {},
   "outputs": [
    {
     "data": {
      "text/html": [
       "<div>\n",
       "<style scoped>\n",
       "    .dataframe tbody tr th:only-of-type {\n",
       "        vertical-align: middle;\n",
       "    }\n",
       "\n",
       "    .dataframe tbody tr th {\n",
       "        vertical-align: top;\n",
       "    }\n",
       "\n",
       "    .dataframe thead th {\n",
       "        text-align: right;\n",
       "    }\n",
       "</style>\n",
       "<table border=\"1\" class=\"dataframe\">\n",
       "  <thead>\n",
       "    <tr style=\"text-align: right;\">\n",
       "      <th></th>\n",
       "      <th>Name</th>\n",
       "      <th>Mileage</th>\n",
       "      <th>Dealer Name</th>\n",
       "      <th>Rating</th>\n",
       "      <th>Rating Count</th>\n",
       "      <th>Price</th>\n",
       "    </tr>\n",
       "  </thead>\n",
       "  <tbody>\n",
       "    <tr>\n",
       "      <th>0</th>\n",
       "      <td>2022 Mercedes-Benz GLB 250 Base 4MATIC</td>\n",
       "      <td>11,565</td>\n",
       "      <td>Mercedes-Benz of Stevens Creek</td>\n",
       "      <td>4.7</td>\n",
       "      <td>1,653</td>\n",
       "      <td>45,980</td>\n",
       "    </tr>\n",
       "    <tr>\n",
       "      <th>1</th>\n",
       "      <td>2019 Mercedes-Benz GLS 450 Base 4MATIC</td>\n",
       "      <td>31,714</td>\n",
       "      <td>Mercedes-Benz of Silver Spring</td>\n",
       "      <td>4.8</td>\n",
       "      <td>1,644</td>\n",
       "      <td>59,900</td>\n",
       "    </tr>\n",
       "    <tr>\n",
       "      <th>2</th>\n",
       "      <td>2021 Mercedes-Benz AMG GLE 53 Base</td>\n",
       "      <td>24,792</td>\n",
       "      <td>Mercedes-Benz of Edison</td>\n",
       "      <td>4.9</td>\n",
       "      <td>3,007</td>\n",
       "      <td>93,989</td>\n",
       "    </tr>\n",
       "    <tr>\n",
       "      <th>3</th>\n",
       "      <td>2019 Mercedes-Benz GLS 450 Base 4MATIC</td>\n",
       "      <td>40,300</td>\n",
       "      <td>Mercedes Benz of Hoffman Estates</td>\n",
       "      <td>4.7</td>\n",
       "      <td>1,112</td>\n",
       "      <td>55,999</td>\n",
       "    </tr>\n",
       "    <tr>\n",
       "      <th>4</th>\n",
       "      <td>2019 Mercedes-Benz CLA 250 Base</td>\n",
       "      <td>30,820</td>\n",
       "      <td>Mercedes-Benz of Miami</td>\n",
       "      <td>4.6</td>\n",
       "      <td>1,037</td>\n",
       "      <td>30,995</td>\n",
       "    </tr>\n",
       "    <tr>\n",
       "      <th>...</th>\n",
       "      <td>...</td>\n",
       "      <td>...</td>\n",
       "      <td>...</td>\n",
       "      <td>...</td>\n",
       "      <td>...</td>\n",
       "      <td>...</td>\n",
       "    </tr>\n",
       "    <tr>\n",
       "      <th>195</th>\n",
       "      <td>2021 Mercedes-Benz GLA 250 Base 4MATIC</td>\n",
       "      <td>12,236</td>\n",
       "      <td>Mercedes-Benz of San Francisco / Smart Center ...</td>\n",
       "      <td>4.0</td>\n",
       "      <td>59</td>\n",
       "      <td>40,562</td>\n",
       "    </tr>\n",
       "    <tr>\n",
       "      <th>196</th>\n",
       "      <td>2020 Mercedes-Benz E-Class E 450 4MATIC</td>\n",
       "      <td>19,150</td>\n",
       "      <td>Mercedes-Benz of Atlanta Northeast</td>\n",
       "      <td>4.8</td>\n",
       "      <td>1,871</td>\n",
       "      <td>62,570</td>\n",
       "    </tr>\n",
       "    <tr>\n",
       "      <th>197</th>\n",
       "      <td>2019 Mercedes-Benz E-Class E 300</td>\n",
       "      <td>24,158</td>\n",
       "      <td>Mercedes-Benz of Arcadia</td>\n",
       "      <td>4.8</td>\n",
       "      <td>1,109</td>\n",
       "      <td>41,559</td>\n",
       "    </tr>\n",
       "    <tr>\n",
       "      <th>198</th>\n",
       "      <td>2020 Mercedes-Benz C-Class C 300</td>\n",
       "      <td>18,710</td>\n",
       "      <td>Mercedes-Benz of South Orlando</td>\n",
       "      <td>4.7</td>\n",
       "      <td>1,237</td>\n",
       "      <td>46,777</td>\n",
       "    </tr>\n",
       "    <tr>\n",
       "      <th>199</th>\n",
       "      <td>2020 Mercedes-Benz GLE 450 AWD 4MATIC</td>\n",
       "      <td>24,900</td>\n",
       "      <td>Mercedes-Benz of Wesley Chapel</td>\n",
       "      <td>4.5</td>\n",
       "      <td>599</td>\n",
       "      <td>62,550</td>\n",
       "    </tr>\n",
       "  </tbody>\n",
       "</table>\n",
       "<p>200 rows × 6 columns</p>\n",
       "</div>"
      ],
      "text/plain": [
       "                                        Name  Mileage  \\\n",
       "0     2022 Mercedes-Benz GLB 250 Base 4MATIC  11,565    \n",
       "1     2019 Mercedes-Benz GLS 450 Base 4MATIC  31,714    \n",
       "2         2021 Mercedes-Benz AMG GLE 53 Base  24,792    \n",
       "3     2019 Mercedes-Benz GLS 450 Base 4MATIC  40,300    \n",
       "4            2019 Mercedes-Benz CLA 250 Base  30,820    \n",
       "..                                       ...      ...   \n",
       "195   2021 Mercedes-Benz GLA 250 Base 4MATIC  12,236    \n",
       "196  2020 Mercedes-Benz E-Class E 450 4MATIC  19,150    \n",
       "197         2019 Mercedes-Benz E-Class E 300  24,158    \n",
       "198         2020 Mercedes-Benz C-Class C 300  18,710    \n",
       "199    2020 Mercedes-Benz GLE 450 AWD 4MATIC  24,900    \n",
       "\n",
       "                                           Dealer Name Rating Rating Count  \\\n",
       "0                       Mercedes-Benz of Stevens Creek    4.7       1,653    \n",
       "1                       Mercedes-Benz of Silver Spring    4.8       1,644    \n",
       "2                              Mercedes-Benz of Edison    4.9       3,007    \n",
       "3                     Mercedes Benz of Hoffman Estates    4.7       1,112    \n",
       "4                               Mercedes-Benz of Miami    4.6       1,037    \n",
       "..                                                 ...    ...          ...   \n",
       "195  Mercedes-Benz of San Francisco / Smart Center ...    4.0          59    \n",
       "196                 Mercedes-Benz of Atlanta Northeast    4.8       1,871    \n",
       "197                           Mercedes-Benz of Arcadia    4.8       1,109    \n",
       "198                     Mercedes-Benz of South Orlando    4.7       1,237    \n",
       "199                     Mercedes-Benz of Wesley Chapel    4.5         599    \n",
       "\n",
       "      Price  \n",
       "0    45,980  \n",
       "1    59,900  \n",
       "2    93,989  \n",
       "3    55,999  \n",
       "4    30,995  \n",
       "..      ...  \n",
       "195  40,562  \n",
       "196  62,570  \n",
       "197  41,559  \n",
       "198  46,777  \n",
       "199  62,550  \n",
       "\n",
       "[200 rows x 6 columns]"
      ]
     },
     "execution_count": 33,
     "metadata": {},
     "output_type": "execute_result"
    }
   ],
   "source": [
    "car_dealer"
   ]
  },
  {
   "cell_type": "code",
   "execution_count": null,
   "id": "75cf2827",
   "metadata": {},
   "outputs": [],
   "source": []
  }
 ],
 "metadata": {
  "kernelspec": {
   "display_name": "Python 3 (ipykernel)",
   "language": "python",
   "name": "python3"
  },
  "language_info": {
   "codemirror_mode": {
    "name": "ipython",
    "version": 3
   },
   "file_extension": ".py",
   "mimetype": "text/x-python",
   "name": "python",
   "nbconvert_exporter": "python",
   "pygments_lexer": "ipython3",
   "version": "3.8.8"
  },
  "toc": {
   "base_numbering": 1,
   "nav_menu": {},
   "number_sections": true,
   "sideBar": true,
   "skip_h1_title": false,
   "title_cell": "Table of Contents",
   "title_sidebar": "Contents",
   "toc_cell": false,
   "toc_position": {},
   "toc_section_display": true,
   "toc_window_display": false
  },
  "varInspector": {
   "cols": {
    "lenName": 16,
    "lenType": 16,
    "lenVar": 40
   },
   "kernels_config": {
    "python": {
     "delete_cmd_postfix": "",
     "delete_cmd_prefix": "del ",
     "library": "var_list.py",
     "varRefreshCmd": "print(var_dic_list())"
    },
    "r": {
     "delete_cmd_postfix": ") ",
     "delete_cmd_prefix": "rm(",
     "library": "var_list.r",
     "varRefreshCmd": "cat(var_dic_list()) "
    }
   },
   "types_to_exclude": [
    "module",
    "function",
    "builtin_function_or_method",
    "instance",
    "_Feature"
   ],
   "window_display": false
  }
 },
 "nbformat": 4,
 "nbformat_minor": 5
}

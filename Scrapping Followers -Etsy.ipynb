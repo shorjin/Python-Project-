{
 "cells": [
  {
   "cell_type": "code",
   "execution_count": 1,
   "id": "9c4cdb4e",
   "metadata": {},
   "outputs": [],
   "source": [
    "from bs4 import BeautifulSoup\n",
    "import requests\n",
    "import pandas as pd\n"
   ]
  },
  {
   "cell_type": "code",
   "execution_count": 91,
   "id": "a93ee91d",
   "metadata": {},
   "outputs": [],
   "source": [
    "website='https://www.etsy.com/shop/IamKeeyomee/favoriters?page=2'\n",
    "headers = {\"User-Agent\":'Mozilla/5.0 (Windows NT 10.0; Win64; x64; rv:102.0) Gecko/20100101 Firefox/102.0'}"
   ]
  },
  {
   "cell_type": "code",
   "execution_count": 92,
   "id": "dee8f0b0",
   "metadata": {},
   "outputs": [],
   "source": [
    "response=requests.get(url=website, headers=headers)"
   ]
  },
  {
   "cell_type": "code",
   "execution_count": 59,
   "id": "1b77df49",
   "metadata": {},
   "outputs": [
    {
     "data": {
      "text/plain": [
       "200"
      ]
     },
     "execution_count": 59,
     "metadata": {},
     "output_type": "execute_result"
    }
   ],
   "source": [
    "response.status_code"
   ]
  },
  {
   "cell_type": "code",
   "execution_count": 93,
   "id": "9bf6518d",
   "metadata": {},
   "outputs": [],
   "source": [
    "soup=BeautifulSoup(response.content,'html.parser')"
   ]
  },
  {
   "cell_type": "code",
   "execution_count": 94,
   "id": "b7300b41",
   "metadata": {},
   "outputs": [],
   "source": [
    "results=soup.find_all('li',{'class':'user-list obscure-privates populated-user'})"
   ]
  },
  {
   "cell_type": "code",
   "execution_count": 95,
   "id": "48b9669a",
   "metadata": {},
   "outputs": [
    {
     "data": {
      "text/plain": [
       "'Darkartistbear'"
      ]
     },
     "execution_count": 95,
     "metadata": {},
     "output_type": "execute_result"
    }
   ],
   "source": [
    "results[2].find('div',{'class':'user-name'}).get_text().strip()"
   ]
  },
  {
   "cell_type": "code",
   "execution_count": 96,
   "id": "bebde008",
   "metadata": {
    "collapsed": true
   },
   "outputs": [
    {
     "ename": "TypeError",
     "evalue": "'NoneType' object is not subscriptable",
     "output_type": "error",
     "traceback": [
      "\u001b[1;31m---------------------------------------------------------------------------\u001b[0m",
      "\u001b[1;31mTypeError\u001b[0m                                 Traceback (most recent call last)",
      "Input \u001b[1;32mIn [96]\u001b[0m, in \u001b[0;36m<cell line: 1>\u001b[1;34m()\u001b[0m\n\u001b[1;32m----> 1\u001b[0m \u001b[43mresults\u001b[49m\u001b[43m[\u001b[49m\u001b[38;5;241;43m1\u001b[39;49m\u001b[43m]\u001b[49m\u001b[38;5;241;43m.\u001b[39;49m\u001b[43mfind\u001b[49m\u001b[43m(\u001b[49m\u001b[38;5;124;43m'\u001b[39;49m\u001b[38;5;124;43ma\u001b[39;49m\u001b[38;5;124;43m'\u001b[39;49m\u001b[43m)\u001b[49m\u001b[43m[\u001b[49m\u001b[38;5;124;43m'\u001b[39;49m\u001b[38;5;124;43mhref\u001b[39;49m\u001b[38;5;124;43m'\u001b[39;49m\u001b[43m]\u001b[49m\u001b[38;5;241m.\u001b[39mstrip()\n",
      "\u001b[1;31mTypeError\u001b[0m: 'NoneType' object is not subscriptable"
     ]
    }
   ],
   "source": [
    "results[1].find('a')['href'].strip()"
   ]
  },
  {
   "cell_type": "code",
   "execution_count": null,
   "id": "a80eb4af",
   "metadata": {},
   "outputs": [],
   "source": []
  },
  {
   "cell_type": "code",
   "execution_count": 126,
   "id": "47efb958",
   "metadata": {},
   "outputs": [
    {
     "name": "stdout",
     "output_type": "stream",
     "text": [
      "Please input the shop name: IamKeeyomee\n",
      "Please input the maximum pages of admirers you want to have: 5\n",
      "=================================loading 1page==============================================\n",
      "https://www.etsy.com/shop/IamKeeyomee/favoriters?page=1\n",
      "=================================loading 2page==============================================\n",
      "https://www.etsy.com/shop/IamKeeyomee/favoriters?page=2\n",
      "=================================loading 3page==============================================\n",
      "https://www.etsy.com/shop/IamKeeyomee/favoriters?page=3\n",
      "=================================loading 4page==============================================\n",
      "https://www.etsy.com/shop/IamKeeyomee/favoriters?page=4\n",
      "=================================loading 5page==============================================\n",
      "https://www.etsy.com/shop/IamKeeyomee/favoriters?page=5\n"
     ]
    }
   ],
   "source": [
    "shopname=input('Please input the shop name: ')\n",
    "page=int(input('Please input the maximum pages of admirers you want to have: '))\n",
    "\n",
    "for i in range(1,page+1):\n",
    "    website='https://www.etsy.com/shop/{s}/favoriters?page={i}'.format(s = shopname, i = i)\n",
    "    print(f\"=================================loading {i}page==============================================\")\n",
    "    print(website)"
   ]
  },
  {
   "cell_type": "code",
   "execution_count": null,
   "id": "26a30112",
   "metadata": {},
   "outputs": [],
   "source": [
    "name=[]\n",
    "link=[]\n",
    "headers = {\"User-Agent\":'Mozilla/5.0 (Windows NT 10.0; Win64; x64; rv:102.0) Gecko/20100101 Firefox/102.0'}\n",
    "for i in range(1,28):\n",
    "    website='https://www.etsy.com/shop/IamKeeyomee/favoriters?page='+ str(i)\n",
    "    print(f\"=================================loading {i}page==============================================\")\n",
    "\n",
    "    #request to website\n",
    "    response=requests.get(url=website, headers=headers)\n",
    "    \n",
    "    code=response.status_code\n",
    "    url=response.url\n",
    "    print(url,code)\n",
    "\n",
    "    #soup object\n",
    "    soup=BeautifulSoup(response.content,'html.parser')\n",
    "   \n",
    "    #results\n",
    "    results=soup.find_all('li',{'class':'user-list obscure-privates populated-user'})\n",
    "  \n",
    "    for result in results:\n",
    "        try:\n",
    "            name.append(result.find('div',{'class':'user-name'}).get_text().strip())\n",
    "        except:\n",
    "            name.append('n/a')\n",
    "        try:\n",
    "            link.append(result.find('a')['href'].strip())\n",
    "        except:\n",
    "            link.append('n/a')\n"
   ]
  },
  {
   "cell_type": "code",
   "execution_count": null,
   "id": "7f82b051",
   "metadata": {},
   "outputs": [],
   "source": [
    "Follower=pd.DataFrame({'Name':name,'Url':link})\n",
    "Follower\n"
   ]
  },
  {
   "cell_type": "code",
   "execution_count": null,
   "id": "13d56422",
   "metadata": {},
   "outputs": [],
   "source": [
    "#Follower.to_excel(\"IamKeeyomee.xlsx\",index=False)"
   ]
  },
  {
   "cell_type": "markdown",
   "id": "d2a35618",
   "metadata": {},
   "source": [
    "# 完整的script"
   ]
  },
  {
   "cell_type": "code",
   "execution_count": 128,
   "id": "1a72974f",
   "metadata": {},
   "outputs": [
    {
     "name": "stdout",
     "output_type": "stream",
     "text": [
      "Please input the shop name: DaintyAndCute\n",
      "Please input the maximum pages of admirers you want to have: 5\n",
      "=================================loading 1page==============================================\n",
      "https://www.etsy.com/shop/DaintyAndCute/favoriters?page=1\n",
      "https://www.etsy.com/shop/DaintyAndCute/favoriters?page=1 200\n",
      "=================================loading 2page==============================================\n",
      "https://www.etsy.com/shop/DaintyAndCute/favoriters?page=2\n",
      "https://www.etsy.com/shop/DaintyAndCute/favoriters?page=2 200\n",
      "=================================loading 3page==============================================\n",
      "https://www.etsy.com/shop/DaintyAndCute/favoriters?page=3\n",
      "https://www.etsy.com/shop/DaintyAndCute/favoriters?page=3 200\n",
      "=================================loading 4page==============================================\n",
      "https://www.etsy.com/shop/DaintyAndCute/favoriters?page=4\n",
      "https://www.etsy.com/shop/DaintyAndCute/favoriters?page=4 200\n",
      "=================================loading 5page==============================================\n",
      "https://www.etsy.com/shop/DaintyAndCute/favoriters?page=5\n",
      "https://www.etsy.com/shop/DaintyAndCute/favoriters?page=5 200\n"
     ]
    }
   ],
   "source": [
    "name=[]\n",
    "link=[]\n",
    "headers = {\"User-Agent\":'Mozilla/5.0 (Windows NT 10.0; Win64; x64; rv:102.0) Gecko/20100101 Firefox/102.0'}\n",
    "shopname=input('Please input the shop name: ')\n",
    "page=int(input('Please input the maximum pages of admirers you want to have: '))           \n",
    "for i in range(1,page+1):\n",
    "    website='https://www.etsy.com/shop/{s}/favoriters?page={i}'.format(s = shopname, i = i)\n",
    "    print(f\"=================================loading {i}page==============================================\")\n",
    "  \n",
    "\n",
    "    #request to website\n",
    "    response=requests.get(url=website, headers=headers)\n",
    "    \n",
    "    code=response.status_code\n",
    "    url=response.url\n",
    "    print(url,code)\n",
    "\n",
    "    #soup object\n",
    "    soup=BeautifulSoup(response.content,'html.parser')\n",
    "   \n",
    "    #results\n",
    "    results=soup.find_all('li',{'class':'user-list obscure-privates populated-user'})\n",
    "  \n",
    "    for result in results:\n",
    "        try:\n",
    "            name.append(result.find('div',{'class':'user-name'}).get_text().strip())\n",
    "        except:\n",
    "            name.append('n/a')\n",
    "        try:\n",
    "            link.append(result.find('a')['href'].strip())\n",
    "        except:\n",
    "            link.append('n/a')\n",
    "Follower=pd.DataFrame({'Name':name,'Url':link})\n",
    "Follower.to_excel(shopname+\" admirers.xlsx\",index=False)"
   ]
  },
  {
   "cell_type": "code",
   "execution_count": null,
   "id": "5b1a3029",
   "metadata": {},
   "outputs": [],
   "source": []
  }
 ],
 "metadata": {
  "kernelspec": {
   "display_name": "Python 3 (ipykernel)",
   "language": "python",
   "name": "python3"
  },
  "language_info": {
   "codemirror_mode": {
    "name": "ipython",
    "version": 3
   },
   "file_extension": ".py",
   "mimetype": "text/x-python",
   "name": "python",
   "nbconvert_exporter": "python",
   "pygments_lexer": "ipython3",
   "version": "3.9.12"
  }
 },
 "nbformat": 4,
 "nbformat_minor": 5
}
